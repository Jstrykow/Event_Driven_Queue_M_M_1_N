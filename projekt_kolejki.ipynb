{
 "cells": [
  {
   "cell_type": "markdown",
   "metadata": {},
   "source": [
    "# Projekt założenia\n",
    "symulator zdarzeniowy M/M/1/N\n",
    "    - średni czas oczekiwania na obsługę\n",
    "    - prawdopobieństwo blokady\n",
    "porównać zmodelem analitycznym:\n",
    "    - dla N = 51\n",
    "    - różnych wartości obciążenia: 0.01, 0.05, 0.1\n",
    "\n",
    "średni czas oczekiwania - > histogram\n"
   ]
  },
  {
   "cell_type": "code",
   "execution_count": 21,
   "metadata": {},
   "outputs": [],
   "source": [
    "# https://pyshark.com/poisson-distribution-and-poisson-process-in-python/#poisson-distribution-example-in-python\n",
    "import scipy\n",
    "import numpy as np\n",
    "import matplotlib\n",
    "from enum import Enum\n",
    "import uuid"
   ]
  },
  {
   "cell_type": "markdown",
   "metadata": {},
   "source": [
    "czas w serwerze to jest \"usługa\" "
   ]
  },
  {
   "cell_type": "code",
   "execution_count": 22,
   "metadata": {},
   "outputs": [
    {
     "name": "stdout",
     "output_type": "stream",
     "text": [
      "\n",
      "pb   = 0.0147    # block probability\n",
      "navg = 23.2464    # average orders in a system\n",
      "tavg = 23.4812    # average time in a system\n",
      "u    = 0.9754    # throughput\n",
      "\n",
      "average time in queue: 22.591470484513554\n",
      "probability of block: 0.014358819877070383\n"
     ]
    }
   ],
   "source": [
    "import math\n",
    "# global_time = 0\n",
    "n = 51 # max order in a system\n",
    "# zmienna lososowa opisująca czas między zgłoszeniami\n",
    "la = 0.99 # 1.0478 # 0.977 #  # intensywność napływu\n",
    "# time_between_packet = 1 / la\n",
    "# zmienna losowa opisuje czas pomiędzy zgłoszeniami k przez serwer\n",
    "mu = 1\n",
    "# time_of_service = 1 / mu # intensywność obsługi\n",
    "time_of_simulation = 25\n",
    "seed_val =1\n",
    "\n",
    "# https://github.com/amasl2048/queue-mm1/blob/master/qtest.cpp\n",
    "roh = la / mu\n",
    "rn = pow(roh, n + 1)\n",
    "p0 = (1 - roh) / (1 - rn)         # free queue probability\n",
    "pb = p0 * rn / roh                \n",
    "\n",
    "navg = roh / (1-roh) - (n+1) * rn/(1-rn)  \n",
    "tavg = navg / la                    \n",
    "u    = mu * (1 - p0)                \n",
    "\n",
    "out = '''\n",
    "pb   = %.4f    # block probability\n",
    "navg = %.4f    # average orders in a system\n",
    "tavg = %.4f    # average time in a system\n",
    "u    = %.4f    # throughput\n",
    "'''\n",
    "print(out % (pb, navg, tavg, u))\n",
    "\n",
    "avr_queue = (roh * (1 + roh ** n * (n * roh - (n + 1))))/ (mu * ( 1 - roh) * (1 - roh * (roh ** (n+2))))\n",
    "print(f\"average time in queue: {avr_queue}\")\n",
    "problock = roh ** (n + 1) * ( 1 - roh) / (1 - roh ** (n + 2))\n",
    "print(f\"probability of block: {problock}\")"
   ]
  },
  {
   "cell_type": "code",
   "execution_count": 23,
   "metadata": {},
   "outputs": [],
   "source": [
    "class EventType(Enum):\n",
    "    IN_EVENT = \"IN_EVENT\"\n",
    "    OUT_EVENT = \"OUT_EVENT\"\n",
    "\n",
    "# slajd 91, \n",
    "\n",
    "class Event():\n",
    "    def __init__(self, time: float, event_type, client_id = None):\n",
    "        self.time = time\n",
    "        self.event_type = event_type\n",
    "        if client_id == None:\n",
    "            self.client_id = str(uuid.uuid4())\n",
    "        else:\n",
    "            self.client_id = client_id\n",
    "    \n",
    "    def __str__(self):\n",
    "        mes = f\"{self.client_id}, {self.event_type}, {self.time}\"\n",
    "        return mes\n",
    "    \n",
    "    def set_time_in_queue(self, time_in_queue):\n",
    "        self.time_in_queue = time_in_queue\n",
    "    \n",
    "    def get_event_stats(self):\n",
    "        return {\n",
    "            'oc_time': self.time,\n",
    "            # 'qu_time': self.time_in_queue,\n",
    "            'client_id': self.client_id,\n",
    "            'event_type': self.event_type\n",
    "        }"
   ]
  },
  {
   "cell_type": "code",
   "execution_count": 24,
   "metadata": {},
   "outputs": [],
   "source": [
    "class Server:\n",
    "    def __init__(self):\n",
    "        self.all_clients =0 \n",
    "        self.all_clients_in_queue = 0\n",
    "        self.client_in_server = False\n",
    "        self.clients_number_in_queue = 0 \n",
    "        self.client_in_server = None\n",
    "        self.clients_in_queue = []\n",
    "        self.buffor = n\n",
    "    \n",
    "    def get_server_stats(self):\n",
    "        return self.client_in_server, self.clients_number_in_queue\n",
    "\n",
    "    def is_server_empty(self):\n",
    "        return not self.client_in_server\n",
    "\n",
    "    def is_queue_empty(self):\n",
    "        return not self.clients_in_queue\n",
    "\n",
    "    def is_place_for_new_event(self):\n",
    "        return self.clients_number_in_queue + 1 <= self.buffor\n",
    "\n",
    "    def add_client_to_server(self, client_id, timestamp):\n",
    "        self.all_clients += 1\n",
    "        self.client_in_server = True\n",
    "        self.clients_in_server = (client_id, timestamp)\n",
    "\n",
    "    def add_client_to_queue(self, client_id, timestamp):\n",
    "        self.all_clients_in_queue += 1\n",
    "        self.clients_number_in_queue += 1\n",
    "        self.clients_in_queue.insert(0, (client_id, timestamp))\n",
    "\n",
    "    def get_queue_first_client(self):\n",
    "        return self.clients_in_queue[-1]\n",
    "\n",
    "    \"\"\"\n",
    "    def delete_client_from_queue(self):\n",
    "        self.clients_number_in_queue -= 1\n",
    "        self.clients_in_queue.pop(0)\n",
    "    \n",
    "    \"\"\"\n",
    "    def delete_client_from_queue(self, client_id):\n",
    "        self.clients_number_in_queue -= 1\n",
    "        self.clients_in_queue = list(\n",
    "            filter(\n",
    "                lambda client: client[0] != client_id,\n",
    "                self.clients_in_queue))\n",
    "    \n",
    "    def delete_client_from_server(self):\n",
    "        self.client_in_server = False\n",
    "        self.client_in_server = None\n",
    "\n",
    "\n"
   ]
  },
  {
   "cell_type": "code",
   "execution_count": 25,
   "metadata": {},
   "outputs": [],
   "source": [
    "class Simulation:\n",
    "    def __init__(self):\n",
    "        # marge\n",
    "        self.events = []\n",
    "        self.clients_stats = []\n",
    "        self.all_events = []\n",
    "        self.server = Server()\n",
    "        self.clients = 0 \n",
    "        self.current_time = 0 \n",
    "\n",
    "\n",
    "    def handle_events(self):\n",
    "        i = 1\n",
    "        while self.events:\n",
    "            current_event = self.events.pop()\n",
    "            current_time = current_event.time\n",
    "            # print(f\"current event: {current_event}\")\n",
    "            # print(self.server.is_place_for_new_event())\n",
    "            # print(current_event, self.server.clients_in_queue, not self.server.is_queue_empty())\n",
    "            # print(len(self.events))\n",
    "            # check buffor, time in queue\n",
    "            if current_event.event_type == EventType.IN_EVENT:\n",
    "                if self.server.is_server_empty():\n",
    "                    self.server.add_client_to_server(current_event.client_id, current_time)\n",
    "                    self.events.append(Event(current_time + self.expotential_value(mu),  EventType.OUT_EVENT, current_event.client_id))\n",
    "                    # print(\"event in server\") \n",
    "                    # print(current_time + self.expotential_value(mu))\n",
    "                else:\n",
    "                    if self.server.is_place_for_new_event():\n",
    "                       #  print(\"event added to queue\")\n",
    "                        self.server.add_client_to_queue(current_event.client_id, current_time)\n",
    "                    else:\n",
    "                        #  print(\"packet dropped\")\n",
    "                        pass\n",
    "                       \n",
    "            if current_event.event_type == EventType.OUT_EVENT:\n",
    "                self.server.delete_client_from_server()\n",
    "                self.clients -= 1\n",
    "                time_in_server = self.expotential_value(mu)\n",
    "                # print(time_in_server)\n",
    "                if not self.server.is_queue_empty():\n",
    "                    # print(\"Server bussy\")\n",
    "                    # print(self.server.get_queue_first_client())\n",
    "                    client_id, client_time = self.server.get_queue_first_client()\n",
    "                    self.server.delete_client_from_queue(client_id)\n",
    "                    new_event = Event(current_time + time_in_server, EventType.OUT_EVENT, client_id=client_id)\n",
    "                    new_event.set_time_in_queue(current_time - client_time)\n",
    "                    self.events.append(new_event)\n",
    "                    self.clients_stats.append(new_event.time_in_queue)\n",
    "            self.events = self.sort_events()\n",
    "            \"\"\"\n",
    "            print(f\"interation: {i}\")\n",
    "            i += 1\n",
    "            for event in self.events:\n",
    "                print(event)\n",
    "            \"\"\"\n",
    "    def init_events(self):\n",
    "        occurrence_time = 0\n",
    "        while occurrence_time < time_of_simulation:\n",
    "            event_occurance = self.expotential_value(la)\n",
    "            occurrence_time += event_occurance\n",
    "            new_event = Event(\n",
    "                occurrence_time,\n",
    "                EventType.IN_EVENT\n",
    "                )\n",
    "            # print(new_event.time, occurrence_time )\n",
    "            self.events.append(new_event)\n",
    "        self.events = self.sort_events()\n",
    "        self.clients = len(self.events)\n",
    "        \"\"\"\n",
    "        print(f\"interation: 0\")\n",
    "        for event in self.events:\n",
    "            print(event)\n",
    "        \"\"\"\n",
    "    def run_simulation(self):\n",
    "        self.init_events()\n",
    "        self.handle_events()\n",
    "    \n",
    "    def expotential_value(self, lambda_value):\n",
    "        wojtek = 1 - np.random.random()\n",
    "        return -1 * (np.log(wojtek) / lambda_value)\n",
    "    \"\"\"\n",
    "    def generate_interarrival(self):\n",
    "        return np.random.exponential(la)\n",
    "    \n",
    "    def generate_service(self):\n",
    "        return np.random.exponential(mu)\n",
    "    \"\"\"\n",
    "    def sort_events(self):\n",
    "        return sorted(\n",
    "                self.events,\n",
    "                key=lambda time: getattr(time, 'time'),\n",
    "                reverse= True)\n",
    "# sim = Simulation()\n",
    "# sim.run_simulation()"
   ]
  },
  {
   "cell_type": "code",
   "execution_count": 26,
   "metadata": {},
   "outputs": [
    {
     "data": {
      "text/plain": [
       "1.9486493601053547"
      ]
     },
     "execution_count": 26,
     "metadata": {},
     "output_type": "execute_result"
    }
   ],
   "source": [
    "# statistics\n",
    "np.random.seed(seed_val)\n",
    "sim = Simulation()\n",
    "sim.run_simulation()\n",
    "\"\"\"\n",
    "# print(sim.clients)\n",
    "all_time_in_queue = 0\n",
    "pakiets_in_queue = 0\n",
    "for idx,  time_in_queue in enumerate(sim.clients_stats):\n",
    "    # print(time_in_queue)\n",
    "    all_time_in_queue += time_in_queue\n",
    "    pakiets_in_queue += 1\n",
    "all_time_in_queue/pakiets_in_queue\n",
    "\"\"\""
   ]
  },
  {
   "cell_type": "code",
   "execution_count": 27,
   "metadata": {},
   "outputs": [
    {
     "data": {
      "text/plain": [
       "[<matplotlib.lines.Line2D at 0x1758d25ed60>]"
      ]
     },
     "execution_count": 27,
     "metadata": {},
     "output_type": "execute_result"
    },
    {
     "data": {
      "image/png": "[encoded data removed]",
      "text/plain": [
       "<Figure size 432x288 with 1 Axes>"
      ]
     },
     "metadata": {
      "needs_background": "light"
     },
     "output_type": "display_data"
    }
   ],
   "source": [
    "import matplotlib.pyplot as plt\n",
    "plt.plot(sim.clients_stats)"
   ]
  },
  {
   "cell_type": "markdown",
   "metadata": {},
   "source": [
    "get pobiera zdarzenie z listy z namnijeszym czasem, przesuwa czas symulacji do tego czasu"
   ]
  },
  {
   "cell_type": "markdown",
   "metadata": {},
   "source": [
    "To do: \n",
    "- czy ten exmpnetial jest dobry aby na pewno to possion? \n",
    "- zrobić historgram dla b\n",
    "- sprawko \n",
    "- wysłać"
   ]
  },
  {
   "cell_type": "markdown",
   "metadata": {},
   "source": [
    "UAKTUALNIENIE: ponieważ w punkcie III projektu wkradł się błąd a jest już blisko terminu oddania prac, proszę wykonać tę część przy prostym założeniu, że odstęp miedzy przychodzącymi klientami jest stały i równy średniej z punktu I. \n",
    "Reference materials"
   ]
  },
  {
   "cell_type": "code",
   "execution_count": null,
   "metadata": {},
   "outputs": [],
   "source": []
  }
 ],
 "metadata": {
  "interpreter": {
   "hash": "93e9accc1df863b72905818bebcfa4d229d669b331c80d86858c30ccbbd67fa3"
  },
  "kernelspec": {
   "display_name": "Python 3.8.10 64-bit (windows store)",
   "language": "python",
   "name": "python3"
  },
  "language_info": {
   "codemirror_mode": {
    "name": "ipython",
    "version": 3
   },
   "file_extension": ".py",
   "mimetype": "text/x-python",
   "name": "python",
   "nbconvert_exporter": "python",
   "pygments_lexer": "ipython3",
   "version": "3.8.10"
  },
  "orig_nbformat": 4
 },
 "nbformat": 4,
 "nbformat_minor": 2
}
