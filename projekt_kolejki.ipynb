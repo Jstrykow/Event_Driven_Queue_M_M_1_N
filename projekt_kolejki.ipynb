{
 "cells": [
  {
   "cell_type": "markdown",
   "metadata": {},
   "source": [
    "# Projekt założenia\n",
    "symulator zdarzeniowy M/M/1/N\n",
    "    - średni czas oczekiwania na obsługę\n",
    "    - prawdopobieństwo blokady\n",
    "porównać zmodelem analitycznym:\n",
    "    - dla N = 51\n",
    "    - różnych wartości obciążenia: 0.01, 0.05, 0.1\n",
    "\n",
    "średni czas oczekiwania - > histogram\n"
   ]
  },
  {
   "cell_type": "code",
   "execution_count": 155,
   "metadata": {},
   "outputs": [],
   "source": [
    "# https://pyshark.com/poisson-distribution-and-poisson-process-in-python/#poisson-distribution-example-in-python\n",
    "import scipy\n",
    "import numpy as np\n",
    "import matplotlib\n",
    "from enum import Enum\n",
    "import uuid"
   ]
  },
  {
   "cell_type": "markdown",
   "metadata": {},
   "source": [
    "czas w serwerze to jest \"usługa\" "
   ]
  },
  {
   "cell_type": "code",
   "execution_count": 160,
   "metadata": {},
   "outputs": [
    {
     "name": "stdout",
     "output_type": "stream",
     "text": [
      "\n",
      "pb   = 0.1048    # block probability\n",
      "navg = 42.5966    # average orders in a system\n",
      "tavg = 12.7154    # average time in a system\n",
      "u    = 2.9989    # throughput\n",
      "\n"
     ]
    }
   ],
   "source": [
    "# global_time = 0\n",
    "n = 51 # max order in a system\n",
    "# zmienna lososowa opisująca czas między zgłoszeniami\n",
    "la = 3.35 # 1.0478 # 0.977 #  # intensywność napływu\n",
    "# time_between_packet = 1 / la\n",
    "# zmienna losowa opisuje czas pomiędzy zgłoszeniami k przez serwer\n",
    "mu = 3\n",
    "# time_of_service = 1 / mu # intensywność obsługi\n",
    "time_of_simulation = 10\n",
    "np.random.seed(12)\n",
    "\n",
    "# https://github.com/amasl2048/queue-mm1/blob/master/qtest.cpp\n",
    "roh = la / mu\n",
    "rn = pow(roh, n + 1)\n",
    "p0 = (1 - roh) / (1 - rn)         # free queue probability\n",
    "pb = p0 * rn / roh                \n",
    "\n",
    "navg = roh / (1-roh) - (n+1) * rn/(1-rn)  \n",
    "tavg = navg / la                    \n",
    "u    = mu * (1 - p0)                \n",
    "\n",
    "out = '''\n",
    "pb   = %.4f    # block probability\n",
    "navg = %.4f    # average orders in a system\n",
    "tavg = %.4f    # average time in a system\n",
    "u    = %.4f    # throughput\n",
    "'''\n",
    "print(out % (pb, navg, tavg, u))"
   ]
  },
  {
   "cell_type": "code",
   "execution_count": 157,
   "metadata": {},
   "outputs": [],
   "source": [
    "class EventType(Enum):\n",
    "    IN_EVENT = \"IN_EVENT\"\n",
    "    OUT_EVENT = \"OUT_EVENT\"\n",
    "\n",
    "# slajd 91, \n",
    "\n",
    "class Event():\n",
    "    def __init__(self, time: float, event_type, client_id = None):\n",
    "        self.time = time\n",
    "        self.event_type = event_type\n",
    "        if client_id == None:\n",
    "            self.client_id = str(uuid.uuid4())\n",
    "        else:\n",
    "            self.client_id = client_id\n",
    "    \n",
    "    def __str__(self):\n",
    "        mes = f\"{self.client_id}, {self.event_type}, {self.time}\"\n",
    "        return mes\n",
    "    \n",
    "    def set_time_in_queue(self, time_in_queue):\n",
    "        self.time_in_queue = time_in_queue\n",
    "    \n",
    "    def get_event_stats(self):\n",
    "        return {\n",
    "            'oc_time': self.time,\n",
    "            'qu_time': self.time_in_queue,\n",
    "            'client_id': self.client_id,\n",
    "            'event_type': self.event_type\n",
    "        }"
   ]
  },
  {
   "cell_type": "code",
   "execution_count": 181,
   "metadata": {},
   "outputs": [
    {
     "name": "stdout",
     "output_type": "stream",
     "text": [
      "51\n"
     ]
    }
   ],
   "source": [
    "class Server:\n",
    "    def __init__(self):\n",
    "        self.all_clients =0 \n",
    "        self.all_clients_in_queue = 0\n",
    "        self.client_in_server = False\n",
    "        self.clients_number_in_queue = 0 \n",
    "        self.client_in_server = None\n",
    "        self.clients_in_queue = []\n",
    "        self.buffor = n\n",
    "    \n",
    "    def get_server_stats(self):\n",
    "        return self.client_in_server, self.clients_number_in_queue\n",
    "\n",
    "    def is_server_empty(self):\n",
    "        return not self.clients_in_server\n",
    "\n",
    "    def is_queue_empty(self):\n",
    "        return not self.clients_in_queue\n",
    "\n",
    "    def is_place_for_new_event(self):\n",
    "        return self.clients_number_in_queue < self.buffor\n",
    "\n",
    "    def add_client_to_server(self, client_id, timestamp):\n",
    "        self.all_clients += 1\n",
    "        self.client_in_server = True\n",
    "        self.clients_in_server = (client_id, timestamp)\n",
    "\n",
    "    def add_client_to_queue(self, client_id, timestamp):\n",
    "        self.all_clients_in_queue += 1\n",
    "        self.clients_number_in_queue += 1\n",
    "        self.clients_in_queue.insert(0, (client_id, timestamp))\n",
    "\n",
    "    def get_queue_first_client(self):\n",
    "        return self.clients_in_queue[-1]\n",
    "\n",
    "\n",
    "    def delete_client_from_queue(self, client_id):\n",
    "        self.clients_number_in_queue -= 1\n",
    "        self.clients_in_queue = list(\n",
    "            filter(\n",
    "                lambda client: client[0] != client_id,\n",
    "                self.clients_in_queue))\n",
    "\n",
    "    def delete_client_from_server(self):\n",
    "        self.client_in_server = False\n",
    "        self.client_in_server = None\n",
    "\n",
    "\n",
    "    \"\"\"\n",
    "\n",
    "\n",
    "s = Server()\n",
    "for i in range(53):\n",
    "    s.add_client(str(i), str(i))\n",
    "print(s.buffor)\n"
   ]
  },
  {
   "cell_type": "code",
   "execution_count": 185,
   "metadata": {},
   "outputs": [],
   "source": [
    "# https://github.com/gsharma007/Stochastic_OR_and_Simulation_Modeling/blob/master/Queue_Modeling/DES.py\n",
    "import logging\n",
    "\n",
    "class Simulation:\n",
    "    def __init__(self):\n",
    "        # marge\n",
    "        self.events = []\n",
    "        self.clients_stats = []\n",
    "        self.server = Server()\n",
    "        self.clients = 0 \n",
    "        # init logging\n",
    "        \n",
    "\n",
    "    def handle_event(self):\n",
    "        current_event = self.events.pop()\n",
    "        current_time = current_event.time\n",
    "        # loggin\n",
    "        if current_event.event_type == EventType.IN_EVENT:\n",
    "            pass\n",
    "            # make out event \n",
    "            # check buffor\n",
    "            #\n",
    "\n",
    "    def init_event(self):\n",
    "        pass\n",
    "\n",
    "    def run_simulation(self):\n",
    "        self.init_event()\n",
    "    \n",
    "    def generate_interarrival(self):\n",
    "        return np.random.exponential(la)\n",
    "    \n",
    "    def generate_service(self):\n",
    "        return np.random.exponential(mu)\n"
   ]
  },
  {
   "cell_type": "markdown",
   "metadata": {},
   "source": [
    "get pobiera zdarzenie z listy z namnijeszym czasem, przesuwa czas symulacji do tego czasu"
   ]
  },
  {
   "cell_type": "markdown",
   "metadata": {},
   "source": [
    "To do: \n",
    "- ogarnać czy potrzebny jest server\n",
    "    - liczba n ?\n",
    "- dodac logging do servera lub klientów\n",
    "- zmienić symualcje od maksymalnego czasu, a nie iteracji \n",
    "- zrobić jakieś wykresy od lambda ? \n",
    "- zrobić historgram dla b\n",
    "- sprawko \n",
    "- wysłać"
   ]
  },
  {
   "cell_type": "markdown",
   "metadata": {},
   "source": [
    "UAKTUALNIENIE: ponieważ w punkcie III projektu wkradł się błąd a jest już blisko terminu oddania prac, proszę wykonać tę część przy prostym założeniu, że odstęp miedzy przychodzącymi klientami jest stały i równy średniej z punktu I. \n",
    "Reference materials"
   ]
  }
 ],
 "metadata": {
  "interpreter": {
   "hash": "93e9accc1df863b72905818bebcfa4d229d669b331c80d86858c30ccbbd67fa3"
  },
  "kernelspec": {
   "display_name": "Python 3.8.10 64-bit (windows store)",
   "language": "python",
   "name": "python3"
  },
  "language_info": {
   "codemirror_mode": {
    "name": "ipython",
    "version": 3
   },
   "file_extension": ".py",
   "mimetype": "text/x-python",
   "name": "python",
   "nbconvert_exporter": "python",
   "pygments_lexer": "ipython3",
   "version": "3.8.10"
  },
  "orig_nbformat": 4
 },
 "nbformat": 4,
 "nbformat_minor": 2
}
