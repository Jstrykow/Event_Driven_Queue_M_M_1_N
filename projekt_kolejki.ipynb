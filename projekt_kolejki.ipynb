{
 "cells": [
  {
   "cell_type": "markdown",
   "metadata": {},
   "source": [
    "# Projekt założenia\n",
    "symulator zdarzeniowy M/M/1/N\n",
    "    - średni czas oczekiwania na obsługę\n",
    "    - prawdopobieństwo blokady\n",
    "porównać zmodelem analitycznym:\n",
    "    - dla N = 51\n",
    "    - różnych wartości obciążenia: 0.01, 0.05, 0.1\n",
    "\n",
    "średni czas oczekiwania - > histogram\n"
   ]
  },
  {
   "cell_type": "code",
   "execution_count": 32,
   "metadata": {},
   "outputs": [],
   "source": [
    "# https://pyshark.com/poisson-distribution-and-poisson-process-in-python/#poisson-distribution-example-in-python\n",
    "import scipy\n",
    "import numpy as np\n",
    "import matplotlib\n",
    "from enum import Enum\n",
    "import uuid"
   ]
  },
  {
   "cell_type": "markdown",
   "metadata": {},
   "source": [
    "czas w serwerze to jest \"usługa\" "
   ]
  },
  {
   "cell_type": "code",
   "execution_count": 33,
   "metadata": {},
   "outputs": [],
   "source": [
    "global_time = 0\n",
    "n = 51 # max order in a system\n",
    "# zmienna lososowa opisująca czas między zgłoszeniami\n",
    "la = 0.9 # intensywność napływu\n",
    "time_between_packet = 1 / la\n",
    "# zmienna losowa opisuje czas pomiędzy zgłoszeniami k przez serwer\n",
    "mu = 1\n",
    "time_of_service = 1 / mu # intensywność obsługi\n",
    "time_of_simulation = 10\n",
    "np.random.seed(12)"
   ]
  },
  {
   "cell_type": "code",
   "execution_count": 34,
   "metadata": {},
   "outputs": [
    {
     "ename": "NameError",
     "evalue": "name 'roh' is not defined",
     "output_type": "error",
     "traceback": [
      "\u001b[1;31m---------------------------------------------------------------------------\u001b[0m",
      "\u001b[1;31mNameError\u001b[0m                                 Traceback (most recent call last)",
      "\u001b[1;32mc:\\Users\\jakub\\OneDrive - Politechnika Warszawska\\Documents\\aaStudia\\aaSem1\\OAST\\Projekt_1\\projekt_kolejki.ipynb Cell 5'\u001b[0m in \u001b[0;36m<cell line: 1>\u001b[1;34m()\u001b[0m\n\u001b[1;32m----> <a href='vscode-notebook-cell:/c%3A/Users/jakub/OneDrive%20-%20Politechnika%20Warszawska/Documents/aaStudia/aaSem1/OAST/Projekt_1/projekt_kolejki.ipynb#ch0000020?line=0'>1</a>\u001b[0m rn \u001b[39m=\u001b[39m \u001b[39mpow\u001b[39m(roh, n \u001b[39m+\u001b[39m \u001b[39m1\u001b[39m)\n\u001b[0;32m      <a href='vscode-notebook-cell:/c%3A/Users/jakub/OneDrive%20-%20Politechnika%20Warszawska/Documents/aaStudia/aaSem1/OAST/Projekt_1/projekt_kolejki.ipynb#ch0000020?line=1'>2</a>\u001b[0m p0 \u001b[39m=\u001b[39m (\u001b[39m1\u001b[39m \u001b[39m-\u001b[39m roh) \u001b[39m/\u001b[39m (\u001b[39m1\u001b[39m \u001b[39m-\u001b[39m rn)         \u001b[39m# free queue probability\u001b[39;00m\n\u001b[0;32m      <a href='vscode-notebook-cell:/c%3A/Users/jakub/OneDrive%20-%20Politechnika%20Warszawska/Documents/aaStudia/aaSem1/OAST/Projekt_1/projekt_kolejki.ipynb#ch0000020?line=2'>3</a>\u001b[0m pb \u001b[39m=\u001b[39m p0 \u001b[39m*\u001b[39m rn \u001b[39m/\u001b[39m roh                \n",
      "\u001b[1;31mNameError\u001b[0m: name 'roh' is not defined"
     ]
    }
   ],
   "source": [
    "roh = la / mu\n",
    "rn = pow(roh, n + 1)\n",
    "p0 = (1 - roh) / (1 - rn)         # free queue probability\n",
    "pb = p0 * rn / roh                \n",
    "\n",
    "navg = roh / (1-roh) - (n+1) * rn/(1-rn)  \n",
    "tavg = navg / la                    \n",
    "u    = mu * (1 - p0)                \n",
    "\n",
    "out = '''\n",
    "pb   = %.4f    # block probability\n",
    "navg = %.4f    # average orders in a system\n",
    "tavg = %.4f    # average time in a system\n",
    "u    = %.4f    # throughput\n",
    "'''\n",
    "print(out % (pb, navg, tavg, u))"
   ]
  },
  {
   "cell_type": "code",
   "execution_count": null,
   "metadata": {},
   "outputs": [],
   "source": [
    "time_between_packet = 1 / la\n",
    "# zmienna losowa opisuje czas pomiędzy zgłoszeniami k przez serwer\n",
    "mu = 1\n",
    "time_of_service = 1 / mi # intensywność obsługi\n",
    "time_of_simulation = 10\n",
    "np.random.seed(12)"
   ]
  },
  {
   "cell_type": "code",
   "execution_count": null,
   "metadata": {},
   "outputs": [],
   "source": [
    "class EventType(Enum):\n",
    "    IN_EVENT = \"IN_EVENT\"\n",
    "    OUT_EVENT = \"OUT_EVENT\"\n",
    "\n",
    "# slajd 91, \n",
    "\n",
    "class Event():\n",
    "    def __init__(self, time: float, event_type, client_id = None):\n",
    "        self.time = time\n",
    "        self.TEventType = event_type\n",
    "        if client_id == None:\n",
    "            self.client_id = str(uuid.uuid4())\n",
    "        else:\n",
    "            self.client_id = client_id"
   ]
  },
  {
   "cell_type": "code",
   "execution_count": null,
   "metadata": {},
   "outputs": [],
   "source": [
    "class Server:\n",
    "    def __init__(self):\n",
    "        pass"
   ]
  },
  {
   "cell_type": "code",
   "execution_count": null,
   "metadata": {},
   "outputs": [],
   "source": [
    "\n",
    "def put(list, new_event):\n",
    "    index = -1\n",
    "    if len(list) + 1 > n: # bufor\n",
    "        return\n",
    "    if new_event.time < global_time: # new packet is \n",
    "        return\n",
    "\n",
    "    for (idx, event) in enumerate(list):\n",
    "        if new_event.time < event.time:\n",
    "            index = idx\n",
    "    if index != -1:\n",
    "        list.insert(index, new_event)\n"
   ]
  },
  {
   "cell_type": "code",
   "execution_count": null,
   "metadata": {},
   "outputs": [
    {
     "name": "stdout",
     "output_type": "stream",
     "text": [
      "4 A\n"
     ]
    }
   ],
   "source": [
    "def get(list):\n",
    "    if len(list) > 0:\n",
    "        global_time = list[0]\n",
    "        return list.pop(0)\n",
    "    else:\n",
    "        return None\n",
    "get(list)\n",
    "for i in list:\n",
    "    print(i.time, i.TEventType)\n",
    "\n",
    "       "
   ]
  },
  {
   "cell_type": "code",
   "execution_count": null,
   "metadata": {},
   "outputs": [
    {
     "name": "stdout",
     "output_type": "stream",
     "text": [
      ">>>>>>>> 6.601218180140894\n",
      ">>>>><<<<< 6.656112899793699\n",
      "{'Iteration': 'I_0', 'Event_time': 2.099912651723645, 'Arrival_time': 3.5851465040463655, 'Service_time': 6.601218180140894, 'Departure_time': 8.701130831864539}\n",
      "{'Iteration': 'I_1', 'Event_time': 3.5851465040463655, 'Arrival_time': 5.8691797556534455, 'Service_time': 6.601218180140894, 'Departure_time': 8.701130831864539}\n",
      "{'Iteration': 'I_2', 'Event_time': 5.8691797556534455, 'Arrival_time': 7.018974677838026, 'Service_time': 6.601218180140894, 'Departure_time': 8.701130831864539}\n",
      "{'Iteration': 'I_3', 'Event_time': 7.018974677838026, 'Arrival_time': 8.843898278376754, 'Service_time': 6.601218180140894, 'Departure_time': 8.701130831864539}\n",
      "{'Iteration': 'I_4', 'Event_time': 8.701130831864539, 'Arrival_time': 8.843898278376754, 'Service_time': 6.656112899793699, 'Departure_time': 15.357243731658238}\n",
      "16.231309738196675\n"
     ]
    }
   ],
   "source": [
    "# https://github.com/gsharma007/Stochastic_OR_and_Simulation_Modeling/blob/master/Queue_Modeling/DES.py\n",
    "\n",
    "class Simulation:\n",
    "    def __init__(self):\n",
    "        self.num_in_system = 0\n",
    "        self.clock = 0.0\n",
    "        self.t_arrival = self.generate_interarrival()\n",
    "        self.t_depart = float('inf') \n",
    "        self.num_arrivals = 0\n",
    "        self.num_departs = 0\n",
    "        self.total_wait = 0.0\n",
    "        self.tmp_time = self.generate_service()\n",
    "        \n",
    "    def advance_time(self):\n",
    "        t_event = min(self.t_arrival, self.t_depart)\n",
    "        self.total_wait += self.num_in_system*(t_event - self.clock)\n",
    "        self.clock = t_event\n",
    "        if self.t_arrival <= self.t_depart:\n",
    "            self.handle_arrival_event()\n",
    "        else:\n",
    "            self.handle_depart_event()\n",
    "    \n",
    "    def handle_arrival_event(self):\n",
    "        self.num_in_system += 1\n",
    "        self.num_arrivals += 1\n",
    "        if self.num_in_system <= 1:\n",
    "            self.temp1 = self.generate_service()\n",
    "            print(\">>>>>>>>\",self.temp1)\n",
    "            self.tmp_time=self.temp1\n",
    "            self.t_depart = self.clock + self.temp1\n",
    "        self.t_arrival = self.clock + self.generate_interarrival()\n",
    "        \n",
    "    def handle_depart_event(self):\n",
    "        self.num_in_system -= 1\n",
    "        self.num_departs += 1\n",
    "        if self.num_in_system > 0:\n",
    "            self.temp2=self.generate_service();\n",
    "            print(\">>>>><<<<<\",self.temp2)\n",
    "            self.tmp_time = self.temp2\n",
    "            self.t_depart = self.clock + self.temp2\n",
    "        else:\n",
    "            self.t_depart = float(\"inf\")\n",
    "    \n",
    "    # zmienieć na poissona\n",
    "\n",
    "    def generate_interarrival(self):\n",
    "        return np.random.lognormal(mean=0.6, sigma=0.3)\n",
    "    def generate_service(self):\n",
    "        return np.random.uniform(low = 5, high = 8)\n",
    "\n",
    "    def average_time(self):\n",
    "        return self.total_wait / s.num_departs\n",
    "\n",
    "\n",
    "s = Simulation()\n",
    "\n",
    "clock_time = []\n",
    "arrival_times = []\n",
    "service_times = []\n",
    "departures = []\n",
    "event_calendar = []\n",
    "\n",
    "\n",
    "for i in range(5):\n",
    "    s.advance_time()\n",
    "    a = s.clock\n",
    "    b = s.t_arrival\n",
    "    c = s.tmp_time\n",
    "    d = s.t_depart\n",
    "    clock_time.append(a)\n",
    "    arrival_times.append(b)\n",
    "    service_times.append(c)\n",
    "    departures.append(d)\n",
    "    \n",
    "    event_list = {\"Iteration\": \"I_\"+str(i), \"Event_time\": a,\n",
    "                  \"Arrival_time\": b, \"Service_time\": c, \"Departure_time\": d}\n",
    "    event_calendar.append(event_list)\n",
    "for interation in event_calendar:\n",
    "    print(interation)\n",
    "\n",
    "print(s.average_time()) "
   ]
  },
  {
   "cell_type": "markdown",
   "metadata": {},
   "source": [
    "get pobiera zdarzenie z listy z namnijeszym czasem, przesuwa czas symulacji do tego czasu"
   ]
  },
  {
   "cell_type": "code",
   "execution_count": null,
   "metadata": {},
   "outputs": [],
   "source": []
  }
 ],
 "metadata": {
  "interpreter": {
   "hash": "93e9accc1df863b72905818bebcfa4d229d669b331c80d86858c30ccbbd67fa3"
  },
  "kernelspec": {
   "display_name": "Python 3.8.10 64-bit (windows store)",
   "language": "python",
   "name": "python3"
  },
  "language_info": {
   "codemirror_mode": {
    "name": "ipython",
    "version": 3
   },
   "file_extension": ".py",
   "mimetype": "text/x-python",
   "name": "python",
   "nbconvert_exporter": "python",
   "pygments_lexer": "ipython3",
   "version": "3.8.10"
  },
  "orig_nbformat": 4
 },
 "nbformat": 4,
 "nbformat_minor": 2
}
