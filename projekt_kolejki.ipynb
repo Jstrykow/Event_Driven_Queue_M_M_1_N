{
 "cells": [
  {
   "cell_type": "markdown",
   "metadata": {},
   "source": [
    "# Projekt założenia\n",
    "symulator zdarzeniowy M/M/1/N\n",
    "    - średni czas oczekiwania na obsługę\n",
    "    - prawdopobieństwo blokady\n",
    "porównać zmodelem analitycznym:\n",
    "    - dla N = 51\n",
    "    - różnych wartości obciążenia: 0.01, 0.05, 0.1\n",
    "\n",
    "średni czas oczekiwania - > histogram\n"
   ]
  },
  {
   "cell_type": "code",
   "execution_count": 206,
   "metadata": {},
   "outputs": [],
   "source": [
    "# https://pyshark.com/poisson-distribution-and-poisson-process-in-python/#poisson-distribution-example-in-python\n",
    "import scipy\n",
    "import numpy as np\n",
    "import matplotlib\n",
    "from enum import Enum\n",
    "import uuid"
   ]
  },
  {
   "cell_type": "markdown",
   "metadata": {},
   "source": [
    "czas w serwerze to jest \"usługa\" "
   ]
  },
  {
   "cell_type": "code",
   "execution_count": 207,
   "metadata": {},
   "outputs": [
    {
     "name": "stdout",
     "output_type": "stream",
     "text": [
      "\n",
      "pb   = 0.1048    # block probability\n",
      "navg = 42.5966    # average orders in a system\n",
      "tavg = 12.7154    # average time in a system\n",
      "u    = 2.9989    # throughput\n",
      "\n"
     ]
    }
   ],
   "source": [
    "# global_time = 0\n",
    "n = 51 # max order in a system\n",
    "# zmienna lososowa opisująca czas między zgłoszeniami\n",
    "la = 3.35 # 1.0478 # 0.977 #  # intensywność napływu\n",
    "# time_between_packet = 1 / la\n",
    "# zmienna losowa opisuje czas pomiędzy zgłoszeniami k przez serwer\n",
    "mu = 3\n",
    "# time_of_service = 1 / mu # intensywność obsługi\n",
    "time_of_simulation = 10\n",
    "np.random.seed(12)\n",
    "\n",
    "# https://github.com/amasl2048/queue-mm1/blob/master/qtest.cpp\n",
    "roh = la / mu\n",
    "rn = pow(roh, n + 1)\n",
    "p0 = (1 - roh) / (1 - rn)         # free queue probability\n",
    "pb = p0 * rn / roh                \n",
    "\n",
    "navg = roh / (1-roh) - (n+1) * rn/(1-rn)  \n",
    "tavg = navg / la                    \n",
    "u    = mu * (1 - p0)                \n",
    "\n",
    "out = '''\n",
    "pb   = %.4f    # block probability\n",
    "navg = %.4f    # average orders in a system\n",
    "tavg = %.4f    # average time in a system\n",
    "u    = %.4f    # throughput\n",
    "'''\n",
    "print(out % (pb, navg, tavg, u))"
   ]
  },
  {
   "cell_type": "code",
   "execution_count": 208,
   "metadata": {},
   "outputs": [],
   "source": [
    "class EventType(Enum):\n",
    "    IN_EVENT = \"IN_EVENT\"\n",
    "    OUT_EVENT = \"OUT_EVENT\"\n",
    "\n",
    "# slajd 91, \n",
    "\n",
    "class Event():\n",
    "    def __init__(self, time: float, event_type, client_id = None):\n",
    "        self.time = time\n",
    "        self.event_type = event_type\n",
    "        if client_id == None:\n",
    "            self.client_id = str(uuid.uuid4())\n",
    "        else:\n",
    "            self.client_id = client_id\n",
    "    \n",
    "    def __str__(self):\n",
    "        mes = f\"{self.client_id}, {self.event_type}, {self.time}\"\n",
    "        return mes\n",
    "    \n",
    "    def set_time_in_queue(self, time_in_queue):\n",
    "        self.time_in_queue = time_in_queue\n",
    "    \n",
    "    def get_event_stats(self):\n",
    "        return {\n",
    "            'oc_time': self.time,\n",
    "            # 'qu_time': self.time_in_queue,\n",
    "            'client_id': self.client_id,\n",
    "            'event_type': self.event_type\n",
    "        }"
   ]
  },
  {
   "cell_type": "code",
   "execution_count": 209,
   "metadata": {},
   "outputs": [],
   "source": [
    "class Server:\n",
    "    def __init__(self):\n",
    "        self.all_clients =0 \n",
    "        self.all_clients_in_queue = 0\n",
    "        self.client_in_server = False\n",
    "        self.clients_number_in_queue = 0 \n",
    "        self.client_in_server = None\n",
    "        self.clients_in_queue = []\n",
    "        self.buffor = n\n",
    "    \n",
    "    def get_server_stats(self):\n",
    "        return self.client_in_server, self.clients_number_in_queue\n",
    "\n",
    "    def is_server_empty(self):\n",
    "        return not self.clients_in_server\n",
    "\n",
    "    def is_queue_empty(self):\n",
    "        return not self.clients_in_queue\n",
    "\n",
    "    def is_place_for_new_event(self):\n",
    "        return self.clients_number_in_queue < self.buffor\n",
    "\n",
    "    def add_client_to_server(self, client_id, timestamp):\n",
    "        self.all_clients += 1\n",
    "        self.client_in_server = True\n",
    "        self.clients_in_server = (client_id, timestamp)\n",
    "\n",
    "    def add_client_to_queue(self, client_id, timestamp):\n",
    "        self.all_clients_in_queue += 1\n",
    "        self.clients_number_in_queue += 1\n",
    "        self.clients_in_queue.insert(0, (client_id, timestamp))\n",
    "\n",
    "    def get_queue_first_client(self):\n",
    "        return self.clients_in_queue[-1]\n",
    "\n",
    "    def delete_client_from_queue(self, client_id):\n",
    "        self.clients_number_in_queue -= 1\n",
    "        self.clients_in_queue = list(\n",
    "            filter(\n",
    "                lambda client: client[0] != client_id,\n",
    "                self.clients_in_queue))\n",
    "\n",
    "    def delete_client_from_server(self):\n",
    "        self.client_in_server = False\n",
    "        self.client_in_server = None\n",
    "\n",
    "\n"
   ]
  },
  {
   "cell_type": "code",
   "execution_count": 229,
   "metadata": {},
   "outputs": [
    {
     "name": "stdout",
     "output_type": "stream",
     "text": [
      "{'oc_time': 31.129045443005563, 'client_id': 'c56b7d8f-846f-49ad-992e-4240d65d888d', 'event_type': <EventType.OUT_EVENT: 'OUT_EVENT'>}\n",
      "{'oc_time': 30.62153010229168, 'client_id': 'b909ebc0-387f-4d25-bebc-c0c6b3f7dd3c', 'event_type': <EventType.OUT_EVENT: 'OUT_EVENT'>}\n",
      "{'oc_time': 29.745277140103408, 'client_id': '0d587f31-9b2d-49d6-896f-e72c4c380637', 'event_type': <EventType.OUT_EVENT: 'OUT_EVENT'>}\n",
      "{'oc_time': 28.61851647500425, 'client_id': '2f9376e7-bbb1-40b4-b207-61db937a70c0', 'event_type': <EventType.OUT_EVENT: 'OUT_EVENT'>}\n",
      "{'oc_time': 23.339280585802275, 'client_id': 'cf840968-0088-4b56-beda-4bbcbc2fd176', 'event_type': <EventType.OUT_EVENT: 'OUT_EVENT'>}\n",
      "{'oc_time': 17.923823828429985, 'client_id': 'a001c131-9f47-49e5-9f04-d71eff3d7743', 'event_type': <EventType.OUT_EVENT: 'OUT_EVENT'>}\n",
      "{'oc_time': 15.387385356393473, 'client_id': 'c083ca5b-e791-400c-931b-2bcb0731ec6b', 'event_type': <EventType.OUT_EVENT: 'OUT_EVENT'>}\n",
      "{'oc_time': 13.67674515079381, 'client_id': '313d5134-9c13-44de-9247-c15d3d30d71a', 'event_type': <EventType.OUT_EVENT: 'OUT_EVENT'>}\n",
      "{'oc_time': 10.164477023085624, 'client_id': 'eb54d147-39ff-4bb4-9461-824c588cde8c', 'event_type': <EventType.OUT_EVENT: 'OUT_EVENT'>}\n",
      "{'oc_time': 6.265167720157942, 'client_id': 'bdbc82b8-55f2-4e0f-9bc0-68c64395faf9', 'event_type': <EventType.OUT_EVENT: 'OUT_EVENT'>}\n"
     ]
    }
   ],
   "source": [
    "import time\n",
    "\n",
    "class Simulation:\n",
    "    def __init__(self):\n",
    "        # marge\n",
    "        self.events = []\n",
    "        self.clients_stats = []\n",
    "        self.server = Server()\n",
    "        self.clients = 0 \n",
    "        self.current_time = 0 \n",
    "\n",
    "\n",
    "    def handle_event(self):\n",
    "        current_event = self.events.pop()\n",
    "        self.current_time = current_event.time\n",
    "        # check buffor\n",
    "        if current_event.event_type == EventType.IN_EVENT:\n",
    "            self.events.append(Event(self.current_time + self.generate_service(),  EventType.OUT_EVENT, current_event.client_id))\n",
    "        self.events =  self.sort_events()\n",
    "        # print(self.current_time)\n",
    "            \n",
    "\n",
    "    def init_event(self):\n",
    "        self.events.append(Event(self.current_time + self.generate_interarrival(), EventType.IN_EVENT))\n",
    "\n",
    "    def run_simulation(self):\n",
    "        self.init_event()\n",
    "        self.handle_event()\n",
    "    \n",
    "    def generate_interarrival(self):\n",
    "        return np.random.exponential(la)\n",
    "    \n",
    "    def generate_service(self):\n",
    "        return np.random.exponential(mu)\n",
    "\n",
    "    def sort_events(self):\n",
    "        return sorted(\n",
    "                self.events,\n",
    "                key=lambda time: getattr(time, 'time'))\n",
    "\n",
    "sim = Simulation()\n",
    "\n",
    "for _ in range (10): \n",
    "    sim.run_simulation()\n",
    "for event in sim.events:\n",
    "   #  sim.sort_events()\n",
    "    print(event.get_event_stats())\n",
    "\n"
   ]
  },
  {
   "cell_type": "markdown",
   "metadata": {},
   "source": [
    "get pobiera zdarzenie z listy z namnijeszym czasem, przesuwa czas symulacji do tego czasu"
   ]
  },
  {
   "cell_type": "markdown",
   "metadata": {},
   "source": [
    "To do: \n",
    "- ogarnać czy potrzebny jest server\n",
    "    - liczba n ?\n",
    "- dodac logging do servera lub klientów\n",
    "- zmienić symualcje od maksymalnego czasu, a nie iteracji \n",
    "- zrobić jakieś wykresy od lambda ? \n",
    "- zrobić historgram dla b\n",
    "- sprawko \n",
    "- wysłać"
   ]
  },
  {
   "cell_type": "markdown",
   "metadata": {},
   "source": [
    "UAKTUALNIENIE: ponieważ w punkcie III projektu wkradł się błąd a jest już blisko terminu oddania prac, proszę wykonać tę część przy prostym założeniu, że odstęp miedzy przychodzącymi klientami jest stały i równy średniej z punktu I. \n",
    "Reference materials"
   ]
  }
 ],
 "metadata": {
  "interpreter": {
   "hash": "93e9accc1df863b72905818bebcfa4d229d669b331c80d86858c30ccbbd67fa3"
  },
  "kernelspec": {
   "display_name": "Python 3.8.10 64-bit (windows store)",
   "language": "python",
   "name": "python3"
  },
  "language_info": {
   "codemirror_mode": {
    "name": "ipython",
    "version": 3
   },
   "file_extension": ".py",
   "mimetype": "text/x-python",
   "name": "python",
   "nbconvert_exporter": "python",
   "pygments_lexer": "ipython3",
   "version": "3.8.10"
  },
  "orig_nbformat": 4
 },
 "nbformat": 4,
 "nbformat_minor": 2
}
